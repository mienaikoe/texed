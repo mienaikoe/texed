{
 "cells": [
  {
   "cell_type": "markdown",
   "metadata": {},
   "source": [
    "# Cleaning Financial Data\n",
    "\n",
    "Here, we clean financial actuals data and pare it down just to what we need for performance (original file is 5 million rows)"
   ]
  },
  {
   "cell_type": "code",
   "execution_count": 1,
   "metadata": {},
   "outputs": [],
   "source": [
    "import pandas as pd"
   ]
  },
  {
   "cell_type": "code",
   "execution_count": 2,
   "metadata": {},
   "outputs": [],
   "source": [
    "# Source\n",
    "# https://tea.texas.gov/finance-and-grants/state-funding/state-funding-reports-and-data/peims-multiple-file-financial-data-downloads\n",
    "\n",
    "filename = 'ACTUAL_2020F.TXT'"
   ]
  },
  {
   "cell_type": "code",
   "execution_count": 7,
   "metadata": {},
   "outputs": [],
   "source": [
    "df = pd.read_csv(\n",
    "    filename, \n",
    "    header=0, \n",
    "    names=['District','Fund','Function','Object','Fin Unit', 'Program Intent', 'Fund Year','Account Amount', 'DT Update'],\n",
    "    dtype={'District': str, 'Fin Unit': str}\n",
    ")"
   ]
  },
  {
   "cell_type": "code",
   "execution_count": 11,
   "metadata": {},
   "outputs": [],
   "source": [
    "df['Campus'] = pd.to_numeric(df['District'] + df['Fin Unit'])"
   ]
  },
  {
   "cell_type": "code",
   "execution_count": 25,
   "metadata": {},
   "outputs": [],
   "source": [
    "amount_df = df[['Campus','Account Amount']]\n",
    "total_expenditures = amount_df.groupby(['Campus']).sum()"
   ]
  },
  {
   "cell_type": "code",
   "execution_count": 29,
   "metadata": {},
   "outputs": [
    {
     "data": {
      "text/html": [
       "<div>\n",
       "<style scoped>\n",
       "    .dataframe tbody tr th:only-of-type {\n",
       "        vertical-align: middle;\n",
       "    }\n",
       "\n",
       "    .dataframe tbody tr th {\n",
       "        vertical-align: top;\n",
       "    }\n",
       "\n",
       "    .dataframe thead th {\n",
       "        text-align: right;\n",
       "    }\n",
       "</style>\n",
       "<table border=\"1\" class=\"dataframe\">\n",
       "  <thead>\n",
       "    <tr style=\"text-align: right;\">\n",
       "      <th></th>\n",
       "      <th>Bilingual Spending</th>\n",
       "    </tr>\n",
       "    <tr>\n",
       "      <th>Campus</th>\n",
       "      <th></th>\n",
       "    </tr>\n",
       "  </thead>\n",
       "  <tbody>\n",
       "    <tr>\n",
       "      <th>1902001</th>\n",
       "      <td>11055</td>\n",
       "    </tr>\n",
       "    <tr>\n",
       "      <th>1906002</th>\n",
       "      <td>3984</td>\n",
       "    </tr>\n",
       "    <tr>\n",
       "      <th>1907001</th>\n",
       "      <td>61054</td>\n",
       "    </tr>\n",
       "    <tr>\n",
       "      <th>1907101</th>\n",
       "      <td>151407</td>\n",
       "    </tr>\n",
       "    <tr>\n",
       "      <th>1907102</th>\n",
       "      <td>647</td>\n",
       "    </tr>\n",
       "    <tr>\n",
       "      <th>...</th>\n",
       "      <td>...</td>\n",
       "    </tr>\n",
       "    <tr>\n",
       "      <th>254901104</th>\n",
       "      <td>1737</td>\n",
       "    </tr>\n",
       "    <tr>\n",
       "      <th>254901106</th>\n",
       "      <td>3642</td>\n",
       "    </tr>\n",
       "    <tr>\n",
       "      <th>254902001</th>\n",
       "      <td>1436</td>\n",
       "    </tr>\n",
       "    <tr>\n",
       "      <th>254902101</th>\n",
       "      <td>1526</td>\n",
       "    </tr>\n",
       "    <tr>\n",
       "      <th>254902999</th>\n",
       "      <td>179</td>\n",
       "    </tr>\n",
       "  </tbody>\n",
       "</table>\n",
       "<p>7181 rows × 1 columns</p>\n",
       "</div>"
      ],
      "text/plain": [
       "           Bilingual Spending\n",
       "Campus                       \n",
       "1902001                 11055\n",
       "1906002                  3984\n",
       "1907001                 61054\n",
       "1907101                151407\n",
       "1907102                   647\n",
       "...                       ...\n",
       "254901104                1737\n",
       "254901106                3642\n",
       "254902001                1436\n",
       "254902101                1526\n",
       "254902999                 179\n",
       "\n",
       "[7181 rows x 1 columns]"
      ]
     },
     "execution_count": 29,
     "metadata": {},
     "output_type": "execute_result"
    }
   ],
   "source": [
    "el_df = df.loc[df['Program Intent'] == 25][['Campus','Account Amount']]\n",
    "el_df = el_df.rename(columns={'Account Amount': 'Bilingual Spending'})\n",
    "el_expenditures = el_df.groupby(['Campus']).sum()\n",
    "el_expenditures"
   ]
  },
  {
   "cell_type": "code",
   "execution_count": 30,
   "metadata": {},
   "outputs": [
    {
     "data": {
      "text/html": [
       "<div>\n",
       "<style scoped>\n",
       "    .dataframe tbody tr th:only-of-type {\n",
       "        vertical-align: middle;\n",
       "    }\n",
       "\n",
       "    .dataframe tbody tr th {\n",
       "        vertical-align: top;\n",
       "    }\n",
       "\n",
       "    .dataframe thead th {\n",
       "        text-align: right;\n",
       "    }\n",
       "</style>\n",
       "<table border=\"1\" class=\"dataframe\">\n",
       "  <thead>\n",
       "    <tr style=\"text-align: right;\">\n",
       "      <th></th>\n",
       "      <th>Account Amount</th>\n",
       "      <th>Bilingual Spending</th>\n",
       "    </tr>\n",
       "    <tr>\n",
       "      <th>Campus</th>\n",
       "      <th></th>\n",
       "      <th></th>\n",
       "    </tr>\n",
       "  </thead>\n",
       "  <tbody>\n",
       "    <tr>\n",
       "      <th>1902000</th>\n",
       "      <td>13569506</td>\n",
       "      <td>NaN</td>\n",
       "    </tr>\n",
       "    <tr>\n",
       "      <th>1902001</th>\n",
       "      <td>1757090</td>\n",
       "      <td>11055.0</td>\n",
       "    </tr>\n",
       "    <tr>\n",
       "      <th>1902041</th>\n",
       "      <td>1116480</td>\n",
       "      <td>NaN</td>\n",
       "    </tr>\n",
       "    <tr>\n",
       "      <th>1902103</th>\n",
       "      <td>1677016</td>\n",
       "      <td>NaN</td>\n",
       "    </tr>\n",
       "    <tr>\n",
       "      <th>1902701</th>\n",
       "      <td>120881</td>\n",
       "      <td>NaN</td>\n",
       "    </tr>\n",
       "    <tr>\n",
       "      <th>...</th>\n",
       "      <td>...</td>\n",
       "      <td>...</td>\n",
       "    </tr>\n",
       "    <tr>\n",
       "      <th>254902701</th>\n",
       "      <td>292122</td>\n",
       "      <td>NaN</td>\n",
       "    </tr>\n",
       "    <tr>\n",
       "      <th>254902702</th>\n",
       "      <td>13480</td>\n",
       "      <td>NaN</td>\n",
       "    </tr>\n",
       "    <tr>\n",
       "      <th>254902703</th>\n",
       "      <td>88571</td>\n",
       "      <td>NaN</td>\n",
       "    </tr>\n",
       "    <tr>\n",
       "      <th>254902750</th>\n",
       "      <td>182122</td>\n",
       "      <td>NaN</td>\n",
       "    </tr>\n",
       "    <tr>\n",
       "      <th>254902999</th>\n",
       "      <td>3049184</td>\n",
       "      <td>179.0</td>\n",
       "    </tr>\n",
       "  </tbody>\n",
       "</table>\n",
       "<p>15266 rows × 2 columns</p>\n",
       "</div>"
      ],
      "text/plain": [
       "           Account Amount  Bilingual Spending\n",
       "Campus                                       \n",
       "1902000          13569506                 NaN\n",
       "1902001           1757090             11055.0\n",
       "1902041           1116480                 NaN\n",
       "1902103           1677016                 NaN\n",
       "1902701            120881                 NaN\n",
       "...                   ...                 ...\n",
       "254902701          292122                 NaN\n",
       "254902702           13480                 NaN\n",
       "254902703           88571                 NaN\n",
       "254902750          182122                 NaN\n",
       "254902999         3049184               179.0\n",
       "\n",
       "[15266 rows x 2 columns]"
      ]
     },
     "execution_count": 30,
     "metadata": {},
     "output_type": "execute_result"
    }
   ],
   "source": [
    "spending_df = total_expenditures.join(el_expenditures, on='Campus')\n",
    "spending_df                       "
   ]
  },
  {
   "cell_type": "code",
   "execution_count": 31,
   "metadata": {},
   "outputs": [],
   "source": [
    "spending_df.to_csv('ACTUAL_2020F_SUMMED.csv')"
   ]
  },
  {
   "cell_type": "code",
   "execution_count": null,
   "metadata": {},
   "outputs": [],
   "source": [
    "# Bilingual expenditure might be interesting to correlate with EL students\n",
    "programs = {\n",
    "    11: 'Regular',\n",
    "    22: 'Career & Technical',\n",
    "    23: 'Students with Disabilities',\n",
    "    25: 'Bilingual'\n",
    "}"
   ]
  }
 ],
 "metadata": {
  "kernelspec": {
   "display_name": "Python 3",
   "language": "python",
   "name": "python3"
  },
  "language_info": {
   "codemirror_mode": {
    "name": "ipython",
    "version": 3
   },
   "file_extension": ".py",
   "mimetype": "text/x-python",
   "name": "python",
   "nbconvert_exporter": "python",
   "pygments_lexer": "ipython3",
   "version": "3.8.15"
  }
 },
 "nbformat": 4,
 "nbformat_minor": 4
}
